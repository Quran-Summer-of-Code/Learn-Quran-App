{
 "cells": [
  {
   "cell_type": "code",
   "execution_count": 1,
   "metadata": {},
   "outputs": [],
   "source": [
    "# read juzInfo.json\n",
    "import json\n",
    "with open('juzInfo.json') as f:\n",
    "    juzInfo = json.load(f)\n",
    "    \n",
    "# add 1 on all ind of each obj\n",
    "for obj in juzInfo:\n",
    "    obj['ind'] += 1\n",
    "\n",
    "# save juzInfo.json\n",
    "import json\n",
    "with open('juzInfo.json', 'w') as f:\n",
    "    json.dump(juzInfo, f, indent=4, ensure_ascii=False)"
   ]
  },
  {
   "cell_type": "code",
   "execution_count": null,
   "metadata": {},
   "outputs": [],
   "source": []
  }
 ],
 "metadata": {
  "kernelspec": {
   "display_name": "m1",
   "language": "python",
   "name": "python3"
  },
  "language_info": {
   "codemirror_mode": {
    "name": "ipython",
    "version": 3
   },
   "file_extension": ".py",
   "mimetype": "text/x-python",
   "name": "python",
   "nbconvert_exporter": "python",
   "pygments_lexer": "ipython3",
   "version": "3.12.4"
  }
 },
 "nbformat": 4,
 "nbformat_minor": 2
}
