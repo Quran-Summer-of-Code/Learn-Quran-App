{
 "cells": [
  {
   "cell_type": "markdown",
   "metadata": {},
   "source": [
    "#### Following script breaks each Ayah into words and stores the result and other related indices in JSON"
   ]
  },
  {
   "cell_type": "code",
   "execution_count": 1,
   "metadata": {},
   "outputs": [],
   "source": [
    "import json\n",
    "\n",
    "# load surasList.json\n",
    "suras = json.load(open('suras.json'))\n",
    "surasList = json.load(open('surasList.json'))\n",
    "\n",
    "surahWords = []\n",
    "for i, surah in enumerate(suras):\n",
    "    surahObj = {}\n",
    "    surahObj['name'] = surasList[i]['name']\n",
    "    surahObj['words'] = []\n",
    "    surahObj['lastWordsinAyah'] = []\n",
    "    surahObj['firstWordsinAyah'] = []\n",
    "    surahObj['ayahRanges'] = []\n",
    "    num_words_so_far = 0\n",
    "    for i, ayahObj in enumerate(surah):\n",
    "        ayahWords = ayahObj['ayah'].split(' ')\n",
    "        surahObj['words'].extend(\"‎\")\n",
    "        surahObj['words'].extend(ayahWords)\n",
    "        num_words_so_far += len(ayahWords) + 1\n",
    "        surahObj['lastWordsinAyah'].append(num_words_so_far-1)\n",
    "        surahObj['firstWordsinAyah'].append(num_words_so_far-len(ayahWords))\n",
    "        surahObj['ayahRanges'].append((num_words_so_far-len(ayahWords), num_words_so_far-1))\n",
    "    surahWords.append(surahObj)\n",
    "\n",
    "with open('surasByWords.json', 'w') as f:\n",
    "    json.dump(surahWords, f, indent=4, ensure_ascii=False)\n"
   ]
  }
 ],
 "metadata": {
  "kernelspec": {
   "display_name": "Python 3",
   "language": "python",
   "name": "python3"
  },
  "language_info": {
   "codemirror_mode": {
    "name": "ipython",
    "version": 3
   },
   "file_extension": ".py",
   "mimetype": "text/x-python",
   "name": "python",
   "nbconvert_exporter": "python",
   "pygments_lexer": "ipython3",
   "version": "3.12.4"
  }
 },
 "nbformat": 4,
 "nbformat_minor": 2
}
